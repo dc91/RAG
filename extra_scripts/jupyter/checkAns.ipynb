{
 "cells": [
  {
   "cell_type": "code",
   "execution_count": null,
   "id": "39ccff19",
   "metadata": {},
   "outputs": [],
   "source": [
    "import os\n",
    "import re\n",
    "import fitz\n",
    "import tomli\n",
    "\n",
    "\n",
    "TOML_DIRECTORY = \"../../questions/cleaned/\"\n",
    "PDF_DIRECTORY = \"../../pdf_data\"\n",
    "TXT_DIRECTORY = \"../../txt_data/\""
   ]
  },
  {
   "cell_type": "markdown",
   "id": "5117f5b4",
   "metadata": {},
   "source": [
    "First get all pdfs as text files. Might give some format error but its ok"
   ]
  },
  {
   "cell_type": "code",
   "execution_count": null,
   "id": "9330eae5",
   "metadata": {},
   "outputs": [],
   "source": [
    "def normalize_text(input_text):\n",
    "    # Remove split words at the end of lines\n",
    "    normalized = re.sub(r\"- ?\\n\", \"\", input_text.strip())\n",
    "    # Replace any sequence of whitespace (including newlines) with a single space\n",
    "    normalized = re.sub(r\"\\s+\", \" \", normalized)\n",
    "    # Don't keep space if end of sentence\n",
    "    normalized = re.sub(r\" +\\.\\s\", \". \", normalized) \n",
    "    \n",
    "    return normalized\n",
    "\n",
    "def chunk_pdf_by_tokens(pdf_path):\n",
    "    doc = fitz.open(pdf_path)\n",
    "\n",
    "    text_and_pagenumber = []  # List [(page_number, page_text)]\n",
    "    for i, page in enumerate(doc):\n",
    "        text = page.get_text(sort=True)\n",
    "        if text.strip():  # Skip empty pages\n",
    "            norm_text = normalize_text(text)\n",
    "            text_and_pagenumber.append((i + 1, norm_text + \" \"))\n",
    "    doc.close()\n",
    "    return text_and_pagenumber\n",
    "\n",
    "for filename in os.listdir(PDF_DIRECTORY):\n",
    "    if filename.endswith(\".pdf\"):\n",
    "        filename_s = filename[:-4]  # Remove '.pdf'\n",
    "        pdf_path = os.path.join(PDF_DIRECTORY, filename)\n",
    "        chunks = chunk_pdf_by_tokens(pdf_path)\n",
    "\n",
    "        os.makedirs(TXT_DIRECTORY, exist_ok=True)\n",
    "        file_path_txt = os.path.join(TXT_DIRECTORY, f\"{filename_s}.txt\")\n",
    "\n",
    "        with open(file_path_txt, \"w\", encoding=\"utf-8\") as f:\n",
    "            for chunk in chunks:\n",
    "                f.write(chunk[1])"
   ]
  },
  {
   "cell_type": "markdown",
   "id": "f94c6766",
   "metadata": {},
   "source": [
    "Then load toml files to directory"
   ]
  },
  {
   "cell_type": "code",
   "execution_count": null,
   "id": "4b78fa59",
   "metadata": {},
   "outputs": [],
   "source": [
    "def get_questions(toml_dir):\n",
    "    all_embedded_questions = {}\n",
    "    for filename in os.listdir(toml_dir):\n",
    "        if filename.endswith(\".toml\"):\n",
    "            file_path = os.path.join(toml_dir, filename)\n",
    "            with open(file_path, \"rb\") as f:  # tomli requires binary mode\n",
    "                toml_data = tomli.load(f)\n",
    "            questions = toml_data.get(\"questions\", [])\n",
    "            for question in questions:\n",
    "                q_id = question.get(\"id\")\n",
    "                if q_id:\n",
    "                    all_embedded_questions[q_id] = question\n",
    "    return all_embedded_questions"
   ]
  },
  {
   "cell_type": "code",
   "execution_count": null,
   "id": "ba4c24ac",
   "metadata": {},
   "outputs": [],
   "source": [
    "question_dict = get_questions(TOML_DIRECTORY)"
   ]
  },
  {
   "cell_type": "markdown",
   "id": "48a43f0e",
   "metadata": {},
   "source": [
    "Check if filename in toml file exists in your pdf directory:"
   ]
  },
  {
   "cell_type": "code",
   "execution_count": null,
   "id": "187ed910",
   "metadata": {},
   "outputs": [],
   "source": [
    "\n",
    "\n",
    "for question_id, question in question_dict.items():\n",
    "    if question['files'][0]['file'] in os.listdir(PDF_DIRECTORY):\n",
    "        continue\n",
    "    else:\n",
    "        print(f\"PDF file for question {question_id} does not exist. Please check if {question['files'][0]['file']} is the right file\")\n",
    "else:\n",
    "    print(\"All PDF files for questions exist in the directory.\")\n"
   ]
  },
  {
   "cell_type": "markdown",
   "id": "f665e446",
   "metadata": {},
   "source": [
    "Now check if answer is found in text files. This is basically a bad word match. But it's a starting point.\n",
    "\n",
    "This is of course not exact.\n",
    "\n",
    "So page breaks where there is a footer between might be interpreted as missing answer and so on, even though it's there. \n",
    "\n",
    "Hyphenated linebreaks are not accounted for and so on.\n",
    "\n",
    "So this is a first step to doublecheck."
   ]
  },
  {
   "cell_type": "code",
   "execution_count": null,
   "id": "6058d44d",
   "metadata": {},
   "outputs": [],
   "source": [
    "def check_answers_in_txt(question_dict, txt_directory):\n",
    "    # Load contents of all .txt files into a list of strings\n",
    "    txt_file_paths = [\n",
    "        os.path.join(txt_directory, filename)\n",
    "        for filename in os.listdir(txt_directory)\n",
    "        if filename.endswith('.txt')\n",
    "    ]\n",
    "\n",
    "    txt_contents = []\n",
    "    for path in txt_file_paths:\n",
    "        with open(path, 'r', encoding='utf-8') as f:\n",
    "            txt_contents.append(f.read())\n",
    "\n",
    "    for question_id, question in question_dict.items():\n",
    "        answer = question['answer']\n",
    "        # Check if answer is a substring in any of the txt file contents\n",
    "        if any(answer in content for content in txt_contents):\n",
    "            continue\n",
    "        else:\n",
    "            print(f\"\\nAnswer for question {question_id} does not exist. Please check file {question['files'][0]['file']} if '{answer}' is the right answer\")\n",
    "\n",
    "# Usage\n",
    "question_dict = get_questions(TOML_DIRECTORY)\n",
    "check_answers_in_txt(question_dict, TXT_DIRECTORY)"
   ]
  }
 ],
 "metadata": {
  "kernelspec": {
   "display_name": ".venv (3.13.2)",
   "language": "python",
   "name": "python3"
  },
  "language_info": {
   "codemirror_mode": {
    "name": "ipython",
    "version": 3
   },
   "file_extension": ".py",
   "mimetype": "text/x-python",
   "name": "python",
   "nbconvert_exporter": "python",
   "pygments_lexer": "ipython3",
   "version": "3.13.2"
  }
 },
 "nbformat": 4,
 "nbformat_minor": 5
}
