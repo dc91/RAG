{
 "cells": [
  {
   "cell_type": "code",
   "execution_count": 20,
   "id": "39ccff19",
   "metadata": {},
   "outputs": [],
   "source": [
    "import os\n",
    "import re\n",
    "import fitz\n",
    "import tomli\n",
    "\n",
    "\n",
    "TOML_DIRECTORY = \"../../questions/cleaned/\"\n",
    "PDF_DIRECTORY = \"../../pdf_data\"\n",
    "TXT_DIRECTORY = \"../../txt_data/\""
   ]
  },
  {
   "cell_type": "markdown",
   "id": "5117f5b4",
   "metadata": {},
   "source": [
    "First get all pdfs as text files. Might give some format error but its ok"
   ]
  },
  {
   "cell_type": "code",
   "execution_count": 27,
   "id": "9330eae5",
   "metadata": {},
   "outputs": [
    {
     "name": "stdout",
     "output_type": "stream",
     "text": [
      "MuPDF error: format error: No default Layer config\n",
      "\n"
     ]
    }
   ],
   "source": [
    "def normalize_text(input_text):\n",
    "    # Remove split words at the end of lines\n",
    "    text = re.sub(r\"- ?\\n\", \"\", input_text.strip())\n",
    "\n",
    "    # Split into lines to check for page numbers at top or bottom\n",
    "    lines = text.splitlines()\n",
    "\n",
    "    # Remove top line if it's a number (page number)\n",
    "    if lines and re.fullmatch(r\"\\s*\\d{1,3}\\s*\", lines[0]):\n",
    "        lines = lines[1:]\n",
    "\n",
    "    # Remove bottom line if it's a number (page number)\n",
    "    if lines and re.fullmatch(r\"\\s*\\d{1,3}\\s*\", lines[-1]):\n",
    "        lines = lines[:-1]\n",
    "\n",
    "    # Re-join and normalize whitespace\n",
    "    text = \"\\n\".join(lines)\n",
    "    text = re.sub(r\"\\s+\", \" \", text)\n",
    "    text = re.sub(r\" +\\.\\s\", \". \", text)\n",
    "\n",
    "    return text.strip()\n",
    "\n",
    "def chunk_pdf_by_tokens(pdf_path):\n",
    "    doc = fitz.open(pdf_path)\n",
    "\n",
    "    text_and_pagenumber = []  # List [(page_number, page_text)]\n",
    "    for i, page in enumerate(doc):\n",
    "        text = page.get_text(sort=True)\n",
    "        if text.strip():  # Skip empty pages\n",
    "            norm_text = normalize_text(text)\n",
    "            text_and_pagenumber.append((i + 1, norm_text + \" \"))\n",
    "    doc.close()\n",
    "    return text_and_pagenumber\n",
    "\n",
    "for filename in os.listdir(PDF_DIRECTORY):\n",
    "    if filename.endswith(\".pdf\"):\n",
    "        filename_s = filename[:-4]  # Remove '.pdf'\n",
    "        pdf_path = os.path.join(PDF_DIRECTORY, filename)\n",
    "        chunks = chunk_pdf_by_tokens(pdf_path)\n",
    "\n",
    "        os.makedirs(TXT_DIRECTORY, exist_ok=True)\n",
    "        file_path_txt = os.path.join(TXT_DIRECTORY, f\"{filename_s}.txt\")\n",
    "\n",
    "        with open(file_path_txt, \"w\", encoding=\"utf-8\") as f:\n",
    "            for chunk in chunks:\n",
    "                f.write(chunk[1])"
   ]
  },
  {
   "cell_type": "markdown",
   "id": "f94c6766",
   "metadata": {},
   "source": [
    "Then load toml files to directory"
   ]
  },
  {
   "cell_type": "code",
   "execution_count": 28,
   "id": "4b78fa59",
   "metadata": {},
   "outputs": [],
   "source": [
    "def get_questions(toml_dir):\n",
    "    all_embedded_questions = {}\n",
    "    for filename in os.listdir(toml_dir):\n",
    "        if filename.endswith(\".toml\"):\n",
    "            file_path = os.path.join(toml_dir, filename)\n",
    "            with open(file_path, \"rb\") as f:  # tomli requires binary mode\n",
    "                toml_data = tomli.load(f)\n",
    "            questions = toml_data.get(\"questions\", [])\n",
    "            for question in questions:\n",
    "                q_id = question.get(\"id\")\n",
    "                if q_id:\n",
    "                    all_embedded_questions[q_id] = question\n",
    "    return all_embedded_questions"
   ]
  },
  {
   "cell_type": "code",
   "execution_count": 29,
   "id": "ba4c24ac",
   "metadata": {},
   "outputs": [],
   "source": [
    "question_dict = get_questions(TOML_DIRECTORY)"
   ]
  },
  {
   "cell_type": "markdown",
   "id": "48a43f0e",
   "metadata": {},
   "source": [
    "Check if filename in toml file exists in your pdf directory:"
   ]
  },
  {
   "cell_type": "code",
   "execution_count": 30,
   "id": "187ed910",
   "metadata": {},
   "outputs": [
    {
     "name": "stdout",
     "output_type": "stream",
     "text": [
      "All PDF files for questions exist in the directory.\n"
     ]
    }
   ],
   "source": [
    "for question_id, question in question_dict.items():\n",
    "    if question['files'][0]['file'] in os.listdir(PDF_DIRECTORY):\n",
    "        continue\n",
    "    else:\n",
    "        print(f\"PDF file for question {question_id} does not exist. Please check if {question['files'][0]['file']} is the right file\")\n",
    "else:\n",
    "    print(\"All PDF files for questions exist in the directory.\")\n"
   ]
  },
  {
   "cell_type": "markdown",
   "id": "f665e446",
   "metadata": {},
   "source": [
    "Now check if answer is found in text files. This is basically a bad word match. But it's a starting point.\n",
    "\n",
    "This is of course not exact.\n",
    "\n",
    "So page breaks where there is a footer between might be interpreted as missing answer and so on, even though it's there. \n",
    "\n",
    "Hyphenated linebreaks are not accounted for and so on.\n",
    "\n",
    "So this is a first step to doublecheck."
   ]
  },
  {
   "cell_type": "code",
   "execution_count": 31,
   "id": "6058d44d",
   "metadata": {},
   "outputs": [
    {
     "name": "stdout",
     "output_type": "stream",
     "text": [
      "\n",
      "Answer for question DC018 does not exist. Please check file AgriFood_WP20112.pdf if 'Små butiker förlorar intäkter om butiken befinner sig inom en radie om 1,5 till 9 kilometer från en stor butik, men förlusten är bara knappt en tredjedel jämfört med om butikerna hade varit belägna högst 1,5 kilometer från varandra.' is the right answer\n",
      "\n",
      "Answer for question DC038 does not exist. Please check file Examensarbete150510.pdf if 'Sammanfattningsvis har reformarbetet haft ett par huvudsakliga syften, nämligen att införa ett konsekvent konsumentskydd också inom personförsäkringarnas område, att anpassa lagreglerna till nya försäkringsformer, en allmän modernisering av lagstiftningen och att ge ett förstärkt skydd för försäkringstagaren som ett näst intill nödvändigt komplement till avregleringen av försäkringsverksamheten.' is the right answer\n",
      "\n",
      "Answer for question DC076 does not exist. Please check file Lucas_RohrHansen_VT22.pdf if 'Gränsdragningsproblematiken ligger i att utreda om det är en förvärvsverksamhet som bedrivs yrkesmässigt och självständigt enligt 13 kap. 1 § IL, eller om verksamheten förvisso bedrivs självständigt men brister vad gäller yrkesmässighet och/eller vinstsyfte, se 12 kap. 37 § IL.' is the right answer\n",
      "\n",
      "Answer for question DC104 does not exist. Please check file tmptmprfscxr.pdf if 'Ur teknisk synvinkel brukar framhållas att något som särskiljer försäkring från andra, liknande företeelser, är att försäkringstagarens prestation - försäkringspremien - grundar sig på en beräkning av risken för skada som utförts med försäkringstekniska metoder.' is the right answer\n",
      "\n",
      "Answer for question DC295 does not exist. Please check file Kommuner_och_Facebook.pdf if 'Med handling förstås framställning i skrift eller bild samt upptagning som kan läsas, avlyssnas eller på annat sätt uppfattas endast med tekniskt hjälpmedel.' is the right answer\n",
      "\n",
      "Answer for question DC148 does not exist. Please check file ADHD-DIAGNOS_I_VARUKORGEN.pdf if 'Med erbjudandet om ADHD-utredningar följer även att företagen behöver redogöra för ADHD- diagnosens orsaker och symptom.' is the right answer\n",
      "\n",
      "Answer for question DC152 does not exist. Please check file adhd–huvudsakligen-ouppmarksam-form-add-2023.pdf if 'Adhd, huvudsakligen ouppmärksam form som innebär ouppmärksamhet, men få eller inga symtom på hyperaktivitet och impulsivitet. I vardagligt tal används ofta förkortningen add (attention deficit disorder).' is the right answer\n",
      "\n",
      "Answer for question DC154 does not exist. Please check file adhd–huvudsakligen-ouppmarksam-form-add-2023.pdf if 'När du har add är det svårt att med viljans hjälp styra din uppmärksamhet, fokusera på det som är viktigt och skifta fokus mellan olika saker när det behövs.' is the right answer\n",
      "\n",
      "Answer for question DC155 does not exist. Please check file adhd–huvudsakligen-ouppmarksam-form-add-2023.pdf if 'Svårigheter med uppmärksamhet har ibland lett till att föräldrar misstänkt att deras barn har dålig hörsel.' is the right answer\n",
      "\n",
      "Answer for question DC156 does not exist. Please check file adhd–huvudsakligen-ouppmarksam-form-add-2023.pdf if 'Många barn och vuxna med add har ett nedsatt arbetsminne. Det gör att uppgifter som ställer krav på arbetsminnet blir svåra, till exempel huvudräkning.' is the right answer\n",
      "\n",
      "Answer for question DC157 does not exist. Please check file adhd–huvudsakligen-ouppmarksam-form-add-2023.pdf if 'När du ska planera och handla målinriktat ställer det höga krav på både arbetsminne och uppmärksamhet. Det kan därför ta mycket energi att hitta ett sätt att ta sig an en uppgift och att starta.' is the right answer\n",
      "\n",
      "Answer for question DC175 does not exist. Please check file Arbetsmiljo_och_psykisk_halsa_digital.pdf if 'Ledarskap kan, enligt en rapport från Arbetsmiljöverket, beskrivas som en påverkansprocess som syftar till att underlätta utförandet av en kollektiv uppgift även om det saknas en fastslagen definition.' is the right answer\n",
      "\n",
      "Answer for question DC179 does not exist. Please check file Arbetsmiljo_och_psykisk_halsa_digital.pdf if 'Anställningsotrygghet definieras, enligt en rapport från Arbetsmiljöverket, som en ”subjektiv upplevelse som speglar risken att förlora sitt nuvarande arbete”.' is the right answer\n",
      "\n",
      "Answer for question DC180 does not exist. Please check file Arbetsmiljo_och_psykisk_halsa_digital.pdf if 'Arbetsmiljöverket beskriver i en rapport att när det gäller sambanden mellan rollkonflikt och olika aspekter av psykisk hälsa finns det samband med utbrändhet, inklusive olika dimensioner av utbrändhet som exempelvis känslomässig utmattning och depersonalisering/cynism.' is the right answer\n",
      "\n",
      "Answer for question DC183 does not exist. Please check file arbetsterapi_primarvarden_webb_v2.pdf if 'Arbetsterapeutens fokus är personens aktivitetsförmåga och delaktighet genom hela livet.' is the right answer\n",
      "\n",
      "Answer for question DC186 does not exist. Please check file arbetsterapi_primarvarden_webb_v2.pdf if 'Arbetsterapeutens utredning och bedömning är en grund för arbetsterapeutiska insatser, men har alltmer börjat användas för att ge underlag vid diagnostisering av sjukdom och andra beslut, exempelvis vid misstänkt demens, vid beslut om sjukskrivning, indragning av körkort eller vapenlicens.' is the right answer\n",
      "\n",
      "Answer for question DC188 does not exist. Please check file arbetsterapi_primarvarden_webb_v2.pdf if 'Alltfler personer med flersjuklighet eller med komplexa vårdbehov, som till exempel personer med kronisk sjukdom, långtidssjukskrivna på grund av stress, depression eller annan fysisk, psykisk eller intellektuell funktionsnedsättning, behandlas inom primärvården.' is the right answer\n",
      "\n",
      "Answer for question DC190 does not exist. Please check file arbetsterapi_primarvarden_webb_v2.pdf if 'Vårdvalet har generellt sett medfört minskade resurser för arbetsterapi.' is the right answer\n",
      "\n",
      "Answer for question DC194 does not exist. Please check file Faktablad-om-arbetsmilijorisker-under-graviditet.pdf if 'Exponering för oorganiskt bly kan leda till minskat spermieantal och ökat antal onormala spermier vid blodblynivåer omkring 2-2,5 μmol/L.' is the right answer\n"
     ]
    }
   ],
   "source": [
    "def check_answers_in_txt(question_dict, txt_directory):\n",
    "    # Load contents of all .txt files into a list of strings\n",
    "    txt_file_paths = [\n",
    "        os.path.join(txt_directory, filename)\n",
    "        for filename in os.listdir(txt_directory)\n",
    "        if filename.endswith('.txt')\n",
    "    ]\n",
    "\n",
    "    txt_contents = []\n",
    "    for path in txt_file_paths:\n",
    "        with open(path, 'r', encoding='utf-8') as f:\n",
    "            txt_contents.append(f.read())\n",
    "\n",
    "    for question_id, question in question_dict.items():\n",
    "        answer = question['answer']\n",
    "        # Check if answer is a substring in any of the txt file contents\n",
    "        if any(answer in content for content in txt_contents):\n",
    "            continue\n",
    "        else:\n",
    "            print(f\"\\nAnswer for question {question_id} does not exist. Please check file {question['files'][0]['file']} if '{answer}' is the right answer\")\n",
    "\n",
    "# Usage\n",
    "question_dict = get_questions(TOML_DIRECTORY)\n",
    "check_answers_in_txt(question_dict, TXT_DIRECTORY)"
   ]
  }
 ],
 "metadata": {
  "kernelspec": {
   "display_name": ".venv (3.13.2)",
   "language": "python",
   "name": "python3"
  },
  "language_info": {
   "codemirror_mode": {
    "name": "ipython",
    "version": 3
   },
   "file_extension": ".py",
   "mimetype": "text/x-python",
   "name": "python",
   "nbconvert_exporter": "python",
   "pygments_lexer": "ipython3",
   "version": "3.13.2"
  }
 },
 "nbformat": 4,
 "nbformat_minor": 5
}
