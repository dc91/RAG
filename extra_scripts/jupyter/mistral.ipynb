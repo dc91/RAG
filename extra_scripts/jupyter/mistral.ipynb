{
 "cells": [
  {
   "cell_type": "code",
   "execution_count": null,
   "id": "6c3ce9fe",
   "metadata": {},
   "outputs": [],
   "source": [
    "from mistralai import Mistral\n",
    "\n",
    "api_key = \"key\"\n",
    "client = Mistral(api_key=api_key)\n",
    "\n",
    "uploaded_pdf = client.files.upload(\n",
    "    file={\n",
    "        \"file_name\": \"6026_Bilaga_Villkor_2025-02-13-1.pdf\",\n",
    "        \"content\": open(\"../../pdf_data/6026_Bilaga_Villkor_2025-02-13-1.pdf\", \"rb\"),\n",
    "    },\n",
    "    purpose=\"ocr\"\n",
    ")  "
   ]
  },
  {
   "cell_type": "code",
   "execution_count": 2,
   "id": "6ba9c72a",
   "metadata": {},
   "outputs": [],
   "source": [
    "retrieved_file = client.files.retrieve(file_id=uploaded_pdf.id)"
   ]
  },
  {
   "cell_type": "code",
   "execution_count": 3,
   "id": "1e57aa12",
   "metadata": {},
   "outputs": [],
   "source": [
    "signed_url = client.files.get_signed_url(file_id=uploaded_pdf.id)"
   ]
  },
  {
   "cell_type": "code",
   "execution_count": 4,
   "id": "e84e8433",
   "metadata": {},
   "outputs": [],
   "source": [
    "ocr_response = client.ocr.process(\n",
    "    model=\"mistral-ocr-latest\",\n",
    "    document={\n",
    "        \"type\": \"document_url\",\n",
    "        \"document_url\": signed_url.url,\n",
    "    },\n",
    "    include_image_base64=True\n",
    ")"
   ]
  },
  {
   "cell_type": "code",
   "execution_count": 40,
   "id": "af08e8be",
   "metadata": {},
   "outputs": [
    {
     "data": {
      "text/plain": [
       "'| Beslutsdatum | Diarienr |  |\\n| :-- | :-- | :-- |\\n| 2025-02-13 | 5.1.1-B24-00728 |  |\\n| Produktnamn | Aktnr | Regnr |\\n| Pro-Opti XL | F-5350 | 6026 |\\n\\n# Bilaga 2 - Innehavarens uppgifter om klassificering och märkning enligt CLP \\n\\nHär redovisas innehavarens uppgifter om produktens klassificering och märkning enligt förordning (EG) nr 1272/2008 (CLP).\\n\\n| Ämnen av betydelse för klassificering och märkning |  |  |\\n| :-- | :-- | :-- |\\n| Ämnesnamn | Cas-nr | Funktion |\\n| Prosulfokarb | $52888-80-9$ | Verksamt ämne |\\n\\n## Klassificering\\n\\nFaroklass och farokategori\\n3.1 Akut toxicitet - Kategori 4\\n3.3 Allvarlig ögonskada eller ögonirritation - Kategori 2\\n4.1 Farligt för vattenmiljön, akut fara - Kategori: Akut 1\\n4.1 Farligt för vattenmiljön, fara för skadliga långtidseffekter - Kategori: Kronisk 2\\n3.4 Hudsensibilisering - Kategori 1\\n\\n## Märkning\\n\\nFaroangivelser\\nH317 Kan orsaka allergisk hudreaktion\\nH319 Orsakar allvarlig ögonirritation\\nH302 Skadligt vid förtäring\\nH410 Mycket giftigt för vattenlevande organismer med långtidseffekter\\n7 procent av blandningen utgörs av beståndsdelar med okänd akut inhalationstoxicitet.\\nEUH401 För att undvika risker för människors hälsa och för miljön, följ bruksanvisningen.\\n\\nSkyddsangivelser\\nP280 Använd skyddshandskar och ögonskydd.\\nP261 Undvik att inandas sprej.\\nP333 +P313 Vid hudirritation eller utslag: Sök läkarhjälp.\\nP337 + P313 Vid bestående ögonirritation: Sök läkarhjälp.\\nP391 Samla upp spill.\\nP501 Innehållet och behållaren lämnas till godkänd avfallsmottagare.'"
      ]
     },
     "execution_count": 40,
     "metadata": {},
     "output_type": "execute_result"
    }
   ],
   "source": [
    "ocr_response.pages[1].markdown"
   ]
  }
 ],
 "metadata": {
  "kernelspec": {
   "display_name": ".venv (3.13.2)",
   "language": "python",
   "name": "python3"
  },
  "language_info": {
   "codemirror_mode": {
    "name": "ipython",
    "version": 3
   },
   "file_extension": ".py",
   "mimetype": "text/x-python",
   "name": "python",
   "nbconvert_exporter": "python",
   "pygments_lexer": "ipython3",
   "version": "3.13.2"
  }
 },
 "nbformat": 4,
 "nbformat_minor": 5
}
