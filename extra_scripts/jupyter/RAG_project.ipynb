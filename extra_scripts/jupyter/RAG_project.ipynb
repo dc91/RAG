{
 "cells": [
  {
   "cell_type": "code",
   "execution_count": 30,
   "id": "5bbf433c",
   "metadata": {},
   "outputs": [],
   "source": [
    "import fitz\n",
    "import re\n",
    "import os\n",
    "import tiktoken"
   ]
  },
  {
   "cell_type": "markdown",
   "id": "dd0b47ca",
   "metadata": {},
   "source": [
    "Documentation of RAG project\n",
    "\n"
   ]
  },
  {
   "cell_type": "markdown",
   "id": "7121db9d",
   "metadata": {},
   "source": [
    "## Parsing\n",
    "For the baseline a simple parser (fitz/PyMuPDF) was selected. It does the bare minimum.\n",
    "\n",
    "### No normalization\n",
    "First we tried with no normalization which looks like this:"
   ]
  },
  {
   "cell_type": "code",
   "execution_count": 31,
   "id": "65583836",
   "metadata": {},
   "outputs": [],
   "source": [
    "def parse_document(pdf_path):\n",
    "    doc = fitz.open(pdf_path)\n",
    "    text_and_pagenumber = []  # List [(page_number, page_text)]\n",
    "\n",
    "    for i, page in enumerate(doc):\n",
    "        text = page.get_text(sort=True)\n",
    "        if text.strip():  # Skip empty pages\n",
    "            text_and_pagenumber.append((i + 1, text))\n",
    "    doc.close()\n",
    "    return text_and_pagenumber\n",
    "\n",
    "text_and_pagenumber = parse_document(\"../../pdf_data/12_BERÄTTELSER_OM_SKAM.pdf\")"
   ]
  },
  {
   "cell_type": "code",
   "execution_count": 32,
   "id": "507431c7",
   "metadata": {},
   "outputs": [
    {
     "data": {
      "text/plain": [
       "[(1,\n",
       "  '12 BERÄTTELSER OM\\n      SKAM\\n\\n En kvalitativ studie om terapeuters\\nupplevelser och erfarenheter av egen\\n      skam i terapirummet\\n\\n              Karin Forsberg och Malin Lundin\\n\\n\\n\\n\\n\\n                            Examensarbete, 15 hp\\n\\n                         Psykoterapeutprogrammet, 90 hp\\n\\n                                    Ht 2024\\n\\n                            Handledare: Per Höglund'),\n",
       " (2,\n",
       "  '                                      Tack!\\n\\nEtt stort tack till våra informanter för att ni med lust och engagemang tog er tid till att dela era\\nupplevelser och erfarenheter med oss. Utan er hade det inte blivit någon uppsats! Vi riktar även\\nett varmt tack till vår handledare Per Höglund som med stor entusiasm och inspiration guidat\\noss igenom uppsatsskrivandet. Slutligen vill vi med värme tacka Thomas och Fredrik för\\nförståelse och stöd samt till våra barn som betyder allt!'),\n",
       " (3,\n",
       "  \"                                                             1\\n\\n\\n                    Sammanfattning\\n\\nDenna studie undersöker  terapeuters egna erfarenheter och\\nupplevelser av skam i terapirummet och hur det påverkar den\\nterapeutiska  alliansen  och  maktbalansen   i  relationen   till\\nklienten. Tidigare forskning har främst fokuserat på klientens\\nskam, medan terapeutens egna skamupplevelser har varit relativt\\noutforskat     trots    dess     potentiella    påverkan    på\\nbehandlingsresultat. Genom  en  kvalitativ  forskningsdesign\\nintervjuades  sex   terapeuter  med  minst  grundläggande\\npsykoterapiutbildning. Totalt rekonstruerades och analyserades\\n12 skamrelaterade händelser med hjälp av tematisk analys enligt\\nBraun och Clarke (2006). Resultaten visar att skam ofta uppstår\\ni situationer där terapeutens kompetens ifrågasätts, vid praktiska\\nmisstag eller när en personlig koppling till klientens berättelse\\nuppstår. Skamreaktionerna inkluderade kroppsliga, emotionella\\noch kognitiva responser och hanterades genom strategier som\\nundvikande, försvar och självrannsakan. Upplevelsen av skam\\npåverkade både terapeutens professionella självbild och den\\nterapeutiska alliansen, där alliansbrott ibland kunde repareras\\ngenom öppenhet och ursäkter. Studien understryker vikten av\\nkollegialt stöd och reflektion, men visar också på brister  i\\nhandledningens  förmåga   att  adressera  terapeuters  skam.\\nSlutsatserna  pekar på  behovet av  att  integrera  träning   i\\nskamhantering  och  självmedkänsla   i  terapeututbildningar.\\nFramtida forskning bör fokusera på hur handledning kan stödja\\nterapeuter  i  att hantera skam och  stärka den  terapeutiska\\nalliansen.\\n            Nyckelord:    skam,     terapeutisk      allians,\\nsjälvmedkänsla, terapeuters erfarenheter, psykoterapi\\n\\n                         Abstract\\n\\nThis study explores therapists' own experiences of shame within\\nthe therapeutic setting and how these experiences impact the\\ntherapeutic alliance and power dynamics in the therapist-client\\nrelationship. Previous research has predominantly focused on\\nclients'  shame,   leaving   therapists'  shame   experiences\\nunderexplored, despite their potential influence on treatment\\noutcomes. Using a qualitative research design, six therapists\\nwith at least basic psychotherapy training were interviewed. A\\ntotal of 12 shame-related incidents were reconstructed and\\nanalyzed through thematic analysis based on Braun and Clarke\\n(2006). The findings reveal  that shame often  arises when\\ntherapists' competence is questioned, in response to practical\\nmistakes, or due to personal connections to clients' narratives.\\nShame responses included physical, emotional, and cognitive\\nreactions, managed through avoidance, defensiveness, and self-\\nreflection. The experience of shame affected both therapists'\\nprofessional self-concept and the therapeutic alliance, with trust\\nruptures sometimes repaired through openness and apologies.\\nThe study highlights the importance of collegial support and\"),\n",
       " (4,\n",
       "  \"                                                             2\\n\\n\\nreflection  but  also uncovers shortcomings  in  supervision's\\nability to address therapists' shame. The conclusions emphasize\\nthe need for integrating training in shame management and self-\\ncompassion within psychotherapy education. Future research\\nshould explore how supervision can better support therapists in\\nmanaging shame and fostering a stronger therapeutic alliance.\\n           Keywords:  shame,  therapeutic  alliance,  self-\\ncompassion, therapists' experiences, psychotherapy\"),\n",
       " (5,\n",
       "  '                                                                          3\\n\\n\\n                                     Inledning\\n\\n      Vi har alla känt skam någon gång. Den där känslan som kan få oss att krypa ihop, vilja\\nsjunka genom jorden, slå ner blicken och dra oss undan sociala sammanhang. Forskning om\\nskam har resulterat i en rad olika teorier som beskriver fenomenet (Tomkins, 1963; Lewis,\\n1971; Wurmser, 1981). Sedan 1980-talet har skam och dess konsekvenser varit ett omskrivet\\nämne i psykologisk forskning (Gilbert, 1998; Brown, 2006; Nathansson, 1992). Forskningen\\nhar främst intresserat sig för klientens skam i terapirummet (Tangney & Dearing, 2002) och\\ntagit avstamp i den psykodynamiska läran om överföringar och motöverföringar (Hahn, 2001).\\nÖverföring handlar om hur klienten omedvetet projicerar känslor från tidigare relationer på\\nterapeuten. Motöverföring handlar om hur terapeutens egna reaktioner påverkas av klientens\\növerföring (Killingmo &  Gullestad, 2011). Forskning med fokus på  terapeutens egna\\nskamupplevelser i mötet med klienter verkar ha hamnat i skymundan, trots att det har visat sig\\natt terapeuters skam påverkar processen och resultatet av psykoterapi (Covert et al. 2003; Leith\\n& Baumeister 1998; Pope, Sonne & Greene 2006).\\n     Vad är det då som händer när terapeuten känner sig otillräcklig, gör ett misstag eller\\nkonfronteras med klienters svåra berättelser eller deras missnöje med terapin? Detta är en fråga\\nsom är relativt obesvarad i litteraturen. Genom att undersöka terapeuters egna upplevelser av\\nskam i terapirummet, samt hur skammen påverkar den terapeutiska alliansen och kvaliteten på\\nbehandlingen, vill vi bidra till en djupare förståelse för dynamiken i det terapeutiska mötet.\\nVåra resultat kan få betydelse i vidare forskning och för kliniker. Den kan leda till nya insikter\\nom vilket stöd terapeuter behöver  i  sitt arbete för  att kunna förbättra kvaliteten på den\\npsykoterapeutiska behandlingen.\\n      Vi vill särskilt belysa vilka situationer som kan framkalla skam, hur terapeuter reagerar\\npå dessa känslor och hur skammen påverkar den terapeutiska alliansen. För att besvara dessa\\nfrågor har vi  intervjuat sex terapeuter om deras  erfarenheter av egen upplevd skam  i\\nterapirummet. Vi kommer även presentera relevant teori och forskning om skam, makt, den\\nterapeutiska alliansen samt självomhändertagande. Därefter redogör vi för vår metod, inklusive\\nurval av  deltagare och datainsamlingsmetod. Resultaten  presenteras sedan,  följt av en\\ndiskussion där vi relaterar våra resultat  till tidigare forskning och  teori. Avslutningsvis\\nsammanfattar vi våra viktigaste slutsatser och diskuterar behov av framtida forskning och\\nklinisk praktik inom området.\\n\\nTeoretiska utgångspunkter – begrepp\\n       För att förstå den komplexa dynamiken i den terapeutiska relationen, de faktorer som\\npåverkar dess kvalitet, är det viktigt att förklara några centrala begrepp. I detta avsnitt undersöks\\nfyra nyckelbegrepp: skam, makt, allians och självmedkänsla. Genom att utforska dessa begrepp\\nfördjupas förståelsen för de processer som påverkar kvaliteten på den terapeutiska relationen.\\n\\nSkam\\n       Definitionen av skam utgår från att skam är en av våra grundkänslor som främst uppstår\\ni relation  till andra (Tomkin, 1963). Skammens roll är att uppmärksamma och korrigera\\nbeteenden och reaktioner. Den kan signalera när vårt beteende riskerar att bryta mot sociala\\nnormer eller såra andra. På så sätt bidrar skam till att upprätthålla sociala band och samhörighet.\\nSkammen kan bli destruktiv och osund och ter sig då hämmande för individen (Dearing &\\nTangney, 2011). Tomkin (2008) menar att skam är en av de negativa grundaffekterna och den\\ntriggas när en positiv affekt avbryts eller förminskas. Skam uppstår framför allt när affekterna\\nglädje och intresse hindras. Detta kan leda till aktivering av olika försvarsstrategier för att\\nhantera skammen. Motoriskt syns skam när en person slår ner blicken, vänder bort huvudet,\\nkroppshållningen sjunker ihop, händerna förs över ansiktet och när en person rodnar. Beroende\\npå hur omgivningen bemöter en skamreaktion hos barnet så påverkas barnets skamutveckling\\ntill att bli sund eller skadlig (Tomkin, 2008).')]"
      ]
     },
     "execution_count": 32,
     "metadata": {},
     "output_type": "execute_result"
    }
   ],
   "source": [
    "text_and_pagenumber[0:5]"
   ]
  },
  {
   "cell_type": "markdown",
   "id": "5f7c5c4b",
   "metadata": {},
   "source": [
    "### With normalization\n",
    "That was not optimal, so we tried with normalization:"
   ]
  },
  {
   "cell_type": "code",
   "execution_count": 33,
   "id": "7eb858f2",
   "metadata": {},
   "outputs": [],
   "source": [
    "def normalize_text(input_text):\n",
    "    # Remove split words at the end of lines\n",
    "    normalized = re.sub(r\"- ?\\n\", \"\", input_text.strip())\n",
    "    # Replace any sequence of whitespace (including newlines) with a single space\n",
    "    normalized = re.sub(r\"\\s+\", \" \", normalized)\n",
    "    # Don't keep space if end of sentence\n",
    "    normalized = re.sub(r\" +\\.\\s\", \". \", normalized)\n",
    "\n",
    "    return normalized\n",
    "\n",
    "def parse_document_norm(pdf_path):\n",
    "    doc = fitz.open(pdf_path)\n",
    "    text_and_pagenumber = []  # List [(page_number, page_text)]\n",
    "\n",
    "    for i, page in enumerate(doc):\n",
    "        text = page.get_text(sort=True)\n",
    "        if text.strip():  # Skip empty pages\n",
    "            norm_text = normalize_text(text)\n",
    "            text_and_pagenumber.append((i + 1, norm_text + \" \"))\n",
    "    doc.close()\n",
    "    return text_and_pagenumber\n",
    "\n",
    "text_and_pagenumber_norm = parse_document_norm(\"../../pdf_data/12_BERÄTTELSER_OM_SKAM.pdf\")"
   ]
  },
  {
   "cell_type": "code",
   "execution_count": 34,
   "id": "9ca504b0",
   "metadata": {},
   "outputs": [
    {
     "data": {
      "text/plain": [
       "[(1,\n",
       "  '12 BERÄTTELSER OM SKAM En kvalitativ studie om terapeuters upplevelser och erfarenheter av egen skam i terapirummet Karin Forsberg och Malin Lundin Examensarbete, 15 hp Psykoterapeutprogrammet, 90 hp Ht 2024 Handledare: Per Höglund '),\n",
       " (2,\n",
       "  'Tack! Ett stort tack till våra informanter för att ni med lust och engagemang tog er tid till att dela era upplevelser och erfarenheter med oss. Utan er hade det inte blivit någon uppsats! Vi riktar även ett varmt tack till vår handledare Per Höglund som med stor entusiasm och inspiration guidat oss igenom uppsatsskrivandet. Slutligen vill vi med värme tacka Thomas och Fredrik för förståelse och stöd samt till våra barn som betyder allt! '),\n",
       " (3,\n",
       "  \"1 Sammanfattning Denna studie undersöker terapeuters egna erfarenheter och upplevelser av skam i terapirummet och hur det påverkar den terapeutiska alliansen och maktbalansen i relationen till klienten. Tidigare forskning har främst fokuserat på klientens skam, medan terapeutens egna skamupplevelser har varit relativt outforskat trots dess potentiella påverkan på behandlingsresultat. Genom en kvalitativ forskningsdesign intervjuades sex terapeuter med minst grundläggande psykoterapiutbildning. Totalt rekonstruerades och analyserades 12 skamrelaterade händelser med hjälp av tematisk analys enligt Braun och Clarke (2006). Resultaten visar att skam ofta uppstår i situationer där terapeutens kompetens ifrågasätts, vid praktiska misstag eller när en personlig koppling till klientens berättelse uppstår. Skamreaktionerna inkluderade kroppsliga, emotionella och kognitiva responser och hanterades genom strategier som undvikande, försvar och självrannsakan. Upplevelsen av skam påverkade både terapeutens professionella självbild och den terapeutiska alliansen, där alliansbrott ibland kunde repareras genom öppenhet och ursäkter. Studien understryker vikten av kollegialt stöd och reflektion, men visar också på brister i handledningens förmåga att adressera terapeuters skam. Slutsatserna pekar på behovet av att integrera träning i skamhantering och självmedkänsla i terapeututbildningar. Framtida forskning bör fokusera på hur handledning kan stödja terapeuter i att hantera skam och stärka den terapeutiska alliansen. Nyckelord: skam, terapeutisk allians, självmedkänsla, terapeuters erfarenheter, psykoterapi Abstract This study explores therapists' own experiences of shame within the therapeutic setting and how these experiences impact the therapeutic alliance and power dynamics in the therapist-client relationship. Previous research has predominantly focused on clients' shame, leaving therapists' shame experiences underexplored, despite their potential influence on treatment outcomes. Using a qualitative research design, six therapists with at least basic psychotherapy training were interviewed. A total of 12 shame-related incidents were reconstructed and analyzed through thematic analysis based on Braun and Clarke (2006). The findings reveal that shame often arises when therapists' competence is questioned, in response to practical mistakes, or due to personal connections to clients' narratives. Shame responses included physical, emotional, and cognitive reactions, managed through avoidance, defensiveness, and selfreflection. The experience of shame affected both therapists' professional self-concept and the therapeutic alliance, with trust ruptures sometimes repaired through openness and apologies. The study highlights the importance of collegial support and \"),\n",
       " (4,\n",
       "  \"2 reflection but also uncovers shortcomings in supervision's ability to address therapists' shame. The conclusions emphasize the need for integrating training in shame management and selfcompassion within psychotherapy education. Future research should explore how supervision can better support therapists in managing shame and fostering a stronger therapeutic alliance. Keywords: shame, therapeutic alliance, selfcompassion, therapists' experiences, psychotherapy \"),\n",
       " (5,\n",
       "  '3 Inledning Vi har alla känt skam någon gång. Den där känslan som kan få oss att krypa ihop, vilja sjunka genom jorden, slå ner blicken och dra oss undan sociala sammanhang. Forskning om skam har resulterat i en rad olika teorier som beskriver fenomenet (Tomkins, 1963; Lewis, 1971; Wurmser, 1981). Sedan 1980-talet har skam och dess konsekvenser varit ett omskrivet ämne i psykologisk forskning (Gilbert, 1998; Brown, 2006; Nathansson, 1992). Forskningen har främst intresserat sig för klientens skam i terapirummet (Tangney & Dearing, 2002) och tagit avstamp i den psykodynamiska läran om överföringar och motöverföringar (Hahn, 2001). Överföring handlar om hur klienten omedvetet projicerar känslor från tidigare relationer på terapeuten. Motöverföring handlar om hur terapeutens egna reaktioner påverkas av klientens överföring (Killingmo & Gullestad, 2011). Forskning med fokus på terapeutens egna skamupplevelser i mötet med klienter verkar ha hamnat i skymundan, trots att det har visat sig att terapeuters skam påverkar processen och resultatet av psykoterapi (Covert et al. 2003; Leith & Baumeister 1998; Pope, Sonne & Greene 2006). Vad är det då som händer när terapeuten känner sig otillräcklig, gör ett misstag eller konfronteras med klienters svåra berättelser eller deras missnöje med terapin? Detta är en fråga som är relativt obesvarad i litteraturen. Genom att undersöka terapeuters egna upplevelser av skam i terapirummet, samt hur skammen påverkar den terapeutiska alliansen och kvaliteten på behandlingen, vill vi bidra till en djupare förståelse för dynamiken i det terapeutiska mötet. Våra resultat kan få betydelse i vidare forskning och för kliniker. Den kan leda till nya insikter om vilket stöd terapeuter behöver i sitt arbete för att kunna förbättra kvaliteten på den psykoterapeutiska behandlingen. Vi vill särskilt belysa vilka situationer som kan framkalla skam, hur terapeuter reagerar på dessa känslor och hur skammen påverkar den terapeutiska alliansen. För att besvara dessa frågor har vi intervjuat sex terapeuter om deras erfarenheter av egen upplevd skam i terapirummet. Vi kommer även presentera relevant teori och forskning om skam, makt, den terapeutiska alliansen samt självomhändertagande. Därefter redogör vi för vår metod, inklusive urval av deltagare och datainsamlingsmetod. Resultaten presenteras sedan, följt av en diskussion där vi relaterar våra resultat till tidigare forskning och teori. Avslutningsvis sammanfattar vi våra viktigaste slutsatser och diskuterar behov av framtida forskning och klinisk praktik inom området. Teoretiska utgångspunkter – begrepp För att förstå den komplexa dynamiken i den terapeutiska relationen, de faktorer som påverkar dess kvalitet, är det viktigt att förklara några centrala begrepp. I detta avsnitt undersöks fyra nyckelbegrepp: skam, makt, allians och självmedkänsla. Genom att utforska dessa begrepp fördjupas förståelsen för de processer som påverkar kvaliteten på den terapeutiska relationen. Skam Definitionen av skam utgår från att skam är en av våra grundkänslor som främst uppstår i relation till andra (Tomkin, 1963). Skammens roll är att uppmärksamma och korrigera beteenden och reaktioner. Den kan signalera när vårt beteende riskerar att bryta mot sociala normer eller såra andra. På så sätt bidrar skam till att upprätthålla sociala band och samhörighet. Skammen kan bli destruktiv och osund och ter sig då hämmande för individen (Dearing & Tangney, 2011). Tomkin (2008) menar att skam är en av de negativa grundaffekterna och den triggas när en positiv affekt avbryts eller förminskas. Skam uppstår framför allt när affekterna glädje och intresse hindras. Detta kan leda till aktivering av olika försvarsstrategier för att hantera skammen. Motoriskt syns skam när en person slår ner blicken, vänder bort huvudet, kroppshållningen sjunker ihop, händerna förs över ansiktet och när en person rodnar. Beroende på hur omgivningen bemöter en skamreaktion hos barnet så påverkas barnets skamutveckling till att bli sund eller skadlig (Tomkin, 2008). ')]"
      ]
     },
     "execution_count": 34,
     "metadata": {},
     "output_type": "execute_result"
    }
   ],
   "source": [
    "text_and_pagenumber_norm[0:5]"
   ]
  },
  {
   "cell_type": "markdown",
   "id": "aabf415a",
   "metadata": {},
   "source": [
    "## Tokenizing & Chunking\n",
    "\n",
    "tiktoken was used for tokenizing. A hard limit of 512 tokens per chunk was set.\n",
    "Chunk text with metadata are saved in dictionary:"
   ]
  },
  {
   "cell_type": "code",
   "execution_count": 35,
   "id": "21e9a52b",
   "metadata": {},
   "outputs": [],
   "source": [
    "EMBEDDING_MODEL_NAME = \"text-embedding-3-small\"\n",
    "TOKEN_ENCODER = tiktoken.encoding_for_model(EMBEDDING_MODEL_NAME)\n",
    "\n",
    "def chunk_pdf_by_tokens(pdf_path, MAX_TOKENS=512):\n",
    "    filename = os.path.basename(pdf_path)\n",
    "    text_and_pagenumber = parse_document_norm(pdf_path)  # List [(page_number, page_text)]\n",
    "    chunks = []\n",
    "    all_tokens = []\n",
    "    token_page_map = []\n",
    "    for page_number, page_text in text_and_pagenumber:\n",
    "        tokens = TOKEN_ENCODER.encode(page_text)\n",
    "        all_tokens.extend(tokens)\n",
    "        token_page_map.extend([page_number] * len(tokens))\n",
    "\n",
    "    # Split into chunks of MAX_TOKENS\n",
    "    total_chunks = (len(all_tokens) + MAX_TOKENS - 1) // MAX_TOKENS\n",
    "\n",
    "    for i in range(total_chunks):\n",
    "        start = i * MAX_TOKENS\n",
    "        end = start + MAX_TOKENS\n",
    "        token_chunk = all_tokens[start:end]\n",
    "        chunk_text = TOKEN_ENCODER.decode(token_chunk)\n",
    "\n",
    "        chunk_pages = token_page_map[start:end]\n",
    "        page_list = sorted(set(chunk_pages))\n",
    "\n",
    "        chunk_metadata = {\n",
    "            \"id\": f\"{filename}_chunk{i + 1}\",\n",
    "            \"filename\": filename,\n",
    "            \"page_number\": \",\".join(map(str, page_list)),\n",
    "            \"chunk_index\": i + 1,\n",
    "            \"total_chunks\": total_chunks,\n",
    "        }\n",
    "\n",
    "        chunks.append({\"text\": chunk_text, \"metadata\": chunk_metadata})\n",
    "    return chunks\n",
    "\n",
    "c = chunk_pdf_by_tokens(\"../../pdf_data/12_BERÄTTELSER_OM_SKAM.pdf\")"
   ]
  },
  {
   "cell_type": "code",
   "execution_count": 36,
   "id": "39d61ff1",
   "metadata": {},
   "outputs": [
    {
     "data": {
      "text/plain": [
       "[{'text': '12 BERÄTTELSER OM SKAM En kvalitativ studie om terapeuters upplevelser och erfarenheter av egen skam i terapirummet Karin Forsberg och Malin Lundin Examensarbete, 15 hp Psykoterapeutprogrammet, 90 hp Ht 2024 Handledare: Per Höglund Tack! Ett stort tack till våra informanter för att ni med lust och engagemang tog er tid till att dela era upplevelser och erfarenheter med oss. Utan er hade det inte blivit någon uppsats! Vi riktar även ett varmt tack till vår handledare Per Höglund som med stor entusiasm och inspiration guidat oss igenom uppsatsskrivandet. Slutligen vill vi med värme tacka Thomas och Fredrik för förståelse och stöd samt till våra barn som betyder allt! 1 Sammanfattning Denna studie undersöker terapeuters egna erfarenheter och upplevelser av skam i terapirummet och hur det påverkar den terapeutiska alliansen och maktbalansen i relationen till klienten. Tidigare forskning har främst fokuserat på klientens skam, medan terapeutens egna skamupplevelser har varit relativt outforskat trots dess potentiella påverkan på behandlingsresultat. Genom en kvalitativ forskningsdesign intervjuades sex terapeuter med minst grundläggande psykoterapiutbildning. Totalt rekonstruerades och analyserades 12 skamrelaterade händelser med hjälp av tematisk analys enligt Braun och Clarke (2006). Resultaten visar att skam ofta uppstår i situationer där terapeutens kompetens ifrågasätts, vid praktiska misstag eller när en personlig koppling till klientens berättelse uppstår. Skamreaktionerna inkluderade kroppsliga, emotionella och kognitiva responser och hanterades genom strategier som undvikande, försvar och självrannsakan. Upplevelsen av skam påverkade både terapeutens professionella sj',\n",
       "  'metadata': {'id': '12_BERÄTTELSER_OM_SKAM.pdf_chunk1',\n",
       "   'filename': '12_BERÄTTELSER_OM_SKAM.pdf',\n",
       "   'page_number': '1,2,3',\n",
       "   'chunk_index': 1,\n",
       "   'total_chunks': 44}},\n",
       " {'text': \"älvbild och den terapeutiska alliansen, där alliansbrott ibland kunde repareras genom öppenhet och ursäkter. Studien understryker vikten av kollegialt stöd och reflektion, men visar också på brister i handledningens förmåga att adressera terapeuters skam. Slutsatserna pekar på behovet av att integrera träning i skamhantering och självmedkänsla i terapeututbildningar. Framtida forskning bör fokusera på hur handledning kan stödja terapeuter i att hantera skam och stärka den terapeutiska alliansen. Nyckelord: skam, terapeutisk allians, självmedkänsla, terapeuters erfarenheter, psykoterapi Abstract This study explores therapists' own experiences of shame within the therapeutic setting and how these experiences impact the therapeutic alliance and power dynamics in the therapist-client relationship. Previous research has predominantly focused on clients' shame, leaving therapists' shame experiences underexplored, despite their potential influence on treatment outcomes. Using a qualitative research design, six therapists with at least basic psychotherapy training were interviewed. A total of 12 shame-related incidents were reconstructed and analyzed through thematic analysis based on Braun and Clarke (2006). The findings reveal that shame often arises when therapists' competence is questioned, in response to practical mistakes, or due to personal connections to clients' narratives. Shame responses included physical, emotional, and cognitive reactions, managed through avoidance, defensiveness, and selfreflection. The experience of shame affected both therapists' professional self-concept and the therapeutic alliance, with trust ruptures sometimes repaired through openness and apologies. The study highlights the importance of collegial support and 2 reflection but also uncovers shortcomings in supervision's ability to address therapists' shame. The conclusions emphasize the need for integrating training in shame management and selfcompassion within psychotherapy education. Future research should explore how supervision can better support therapists in managing shame and fostering a stronger therapeutic alliance. Keywords: shame, therapeutic alliance, selfcompassion, therapists' experiences, psychotherapy 3 Inledning Vi har alla känt skam någon gång. Den där känslan som kan få oss att krypa ihop, vilja sjunka genom jorden, slå ner blicken och dra oss undan sociala\",\n",
       "  'metadata': {'id': '12_BERÄTTELSER_OM_SKAM.pdf_chunk2',\n",
       "   'filename': '12_BERÄTTELSER_OM_SKAM.pdf',\n",
       "   'page_number': '3,4,5',\n",
       "   'chunk_index': 2,\n",
       "   'total_chunks': 44}},\n",
       " {'text': ' sammanhang. Forskning om skam har resulterat i en rad olika teorier som beskriver fenomenet (Tomkins, 1963; Lewis, 1971; Wurmser, 1981). Sedan 1980-talet har skam och dess konsekvenser varit ett omskrivet ämne i psykologisk forskning (Gilbert, 1998; Brown, 2006; Nathansson, 1992). Forskningen har främst intresserat sig för klientens skam i terapirummet (Tangney & Dearing, 2002) och tagit avstamp i den psykodynamiska läran om överföringar och motöverföringar (Hahn, 2001). Överföring handlar om hur klienten omedvetet projicerar känslor från tidigare relationer på terapeuten. Motöverföring handlar om hur terapeutens egna reaktioner påverkas av klientens överföring (Killingmo & Gullestad, 2011). Forskning med fokus på terapeutens egna skamupplevelser i mötet med klienter verkar ha hamnat i skymundan, trots att det har visat sig att terapeuters skam påverkar processen och resultatet av psykoterapi (Covert et al. 2003; Leith & Baumeister 1998; Pope, Sonne & Greene 2006). Vad är det då som händer när terapeuten känner sig otillräcklig, gör ett misstag eller konfronteras med klienters svåra berättelser eller deras missnöje med terapin? Detta är en fråga som är relativt obesvarad i litteraturen. Genom att undersöka terapeuters egna upplevelser av skam i terapirummet, samt hur skammen påverkar den terapeutiska alliansen och kvaliteten på behandlingen, vill vi bidra till en djupare förståelse för dynamiken i det terapeutiska mötet. Våra resultat kan få betydelse i vidare forskning och för kliniker. Den kan leda till nya insikter om vilket',\n",
       "  'metadata': {'id': '12_BERÄTTELSER_OM_SKAM.pdf_chunk3',\n",
       "   'filename': '12_BERÄTTELSER_OM_SKAM.pdf',\n",
       "   'page_number': '5',\n",
       "   'chunk_index': 3,\n",
       "   'total_chunks': 44}},\n",
       " {'text': ' stöd terapeuter behöver i sitt arbete för att kunna förbättra kvaliteten på den psykoterapeutiska behandlingen. Vi vill särskilt belysa vilka situationer som kan framkalla skam, hur terapeuter reagerar på dessa känslor och hur skammen påverkar den terapeutiska alliansen. För att besvara dessa frågor har vi intervjuat sex terapeuter om deras erfarenheter av egen upplevd skam i terapirummet. Vi kommer även presentera relevant teori och forskning om skam, makt, den terapeutiska alliansen samt självomhändertagande. Därefter redogör vi för vår metod, inklusive urval av deltagare och datainsamlingsmetod. Resultaten presenteras sedan, följt av en diskussion där vi relaterar våra resultat till tidigare forskning och teori. Avslutningsvis sammanfattar vi våra viktigaste slutsatser och diskuterar behov av framtida forskning och klinisk praktik inom området. Teoretiska utgångspunkter – begrepp För att förstå den komplexa dynamiken i den terapeutiska relationen, de faktorer som påverkar dess kvalitet, är det viktigt att förklara några centrala begrepp. I detta avsnitt undersöks fyra nyckelbegrepp: skam, makt, allians och självmedkänsla. Genom att utforska dessa begrepp fördjupas förståelsen för de processer som påverkar kvaliteten på den terapeutiska relationen. Skam Definitionen av skam utgår från att skam är en av våra grundkänslor som främst uppstår i relation till andra (Tomkin, 1963). Skammens roll är att uppmärksamma och korrigera beteenden och reaktioner. Den kan signalera när vårt beteende riskerar att bryta mot sociala normer eller såra andra. På så sätt bidrar skam till att upprätthålla sociala band och samhörighet.',\n",
       "  'metadata': {'id': '12_BERÄTTELSER_OM_SKAM.pdf_chunk4',\n",
       "   'filename': '12_BERÄTTELSER_OM_SKAM.pdf',\n",
       "   'page_number': '5',\n",
       "   'chunk_index': 4,\n",
       "   'total_chunks': 44}},\n",
       " {'text': ' Skammen kan bli destruktiv och osund och ter sig då hämmande för individen (Dearing & Tangney, 2011). Tomkin (2008) menar att skam är en av de negativa grundaffekterna och den triggas när en positiv affekt avbryts eller förminskas. Skam uppstår framför allt när affekterna glädje och intresse hindras. Detta kan leda till aktivering av olika försvarsstrategier för att hantera skammen. Motoriskt syns skam när en person slår ner blicken, vänder bort huvudet, kroppshållningen sjunker ihop, händerna förs över ansiktet och när en person rodnar. Beroende på hur omgivningen bemöter en skamreaktion hos barnet så påverkas barnets skamutveckling till att bli sund eller skadlig (Tomkin, 2008). 4 Nathanson (1992) har bidragit till förståelsen av skam. Hans teori om \"skamkompassen\", se Figur 1, ger en detaljerad bild av hur skam inte bara är en känsla, utan också en kraftfull drivkraft som formar vårt beteende och vår självbild. Skamkompassen beskriver fyra olika sätt för att försvara sig mot skammen 1) attackerar oss själva, 2) attackerar andra, 3) aktivt undviker eller 4) drar oss undan. Nathanson ser stolthet som motpolen till skam. Han beskriver stolthet som inte bara en känsla av överlägsenhet, utan snarare en positiv känsla som inkluderar glädje, intresse och tillfredsställelse. När dessa positiva känslor avbryts eller avvisas, uppstår skam. Figur 1 Illustration av skamkompassen Hahn (2001) kopplar skam till känslor av otillräcklighet och fördömande. Han betonar vikten av anknytning och menar att bristande',\n",
       "  'metadata': {'id': '12_BERÄTTELSER_OM_SKAM.pdf_chunk5',\n",
       "   'filename': '12_BERÄTTELSER_OM_SKAM.pdf',\n",
       "   'page_number': '5,6',\n",
       "   'chunk_index': 5,\n",
       "   'total_chunks': 44}}]"
      ]
     },
     "execution_count": 36,
     "metadata": {},
     "output_type": "execute_result"
    }
   ],
   "source": [
    "c[0:5]"
   ]
  },
  {
   "cell_type": "markdown",
   "id": "9a663f24",
   "metadata": {},
   "source": [
    "## Embedding Documents\n",
    "\n",
    "The embedding model \"text-embedding-3-small\" was used for the embeddings.\n",
    "\n",
    "This is how they were created and inserted to chromadb:"
   ]
  },
  {
   "cell_type": "markdown",
   "id": "cd3e5dbe",
   "metadata": {},
   "source": [
    "```python\n",
    "openai_ef = embedding_functions.OpenAIEmbeddingFunction(\n",
    "    api_key=OPENAI_KEY, model_name=EMBEDDING_MODEL_NAME\n",
    ")\n",
    "chroma_client = chromadb.PersistentClient(path=PERSIST_DIRECTORY)\n",
    "collection = chroma_client.get_or_create_collection(\n",
    "    name=COLLECTION_NAME, embedding_function=openai_ef\n",
    ")\n",
    "client = OpenAI(api_key=OPENAI_KEY)\n",
    "\n",
    "def process_pdfs_and_insert(directory):\n",
    "    for filename in os.listdir(directory):\n",
    "        if filename.endswith(\".pdf\"):\n",
    "            pdf_path = os.path.join(directory, filename)\n",
    "            chunks = chunk_pdf_by_tokens(pdf_path)\n",
    "\n",
    "            for chunk in chunks:\n",
    "                chunk_id = chunk[\"metadata\"][\"id\"]\n",
    "                chunk_text = chunk[\"text\"]\n",
    "                embedding = (\n",
    "                    client.embeddings.create(\n",
    "                        input=chunk_text, model=EMBEDDING_MODEL_NAME\n",
    "                    )\n",
    "                    .data[0]\n",
    "                    .embedding\n",
    "                )\n",
    "                collection.upsert(\n",
    "                    ids=[chunk_id],\n",
    "                    documents=[chunk_text],\n",
    "                    embeddings=[embedding],\n",
    "                    metadatas=[chunk[\"metadata\"]],\n",
    "                )\n",
    "```"
   ]
  },
  {
   "cell_type": "markdown",
   "id": "566caaad",
   "metadata": {},
   "source": [
    "## Embedding questions\n",
    "\n",
    "We needed to create embeddings for our questions. Same embedding model as for the documents.\n",
    "\n",
    "We open our toml files, parse them, and add a new key for the embeddings.\n",
    "\n",
    "Then we write a new toml file, which includes the embedding"
   ]
  },
  {
   "cell_type": "markdown",
   "id": "f7997d6b",
   "metadata": {},
   "source": [
    "```python\n",
    "def get_embedding(question):\n",
    "    return client.embeddings.create(input=question, model=EMBEDDING_MODEL_NAME).data[0].embedding\n",
    "\n",
    "def add_embeddings_to_toml(toml_dir):\n",
    "    for filename in os.listdir(toml_dir):\n",
    "        if filename.endswith(\".toml\"):\n",
    "            with open(toml_dir + filename, \"r\", encoding=\"utf-8\") as f:\n",
    "                toml_f = parse(f.read())\n",
    "            for question in toml_f[\"questions\"]:\n",
    "                question[\"question_embedding\"] = get_embedding(question[\"question\"])\n",
    "            with open(toml_dir + \"embedded_\" + filename, \"w\", encoding=\"utf-8\") as f:\n",
    "                f.write(dumps(toml_f))\n",
    "```"
   ]
  },
  {
   "cell_type": "markdown",
   "id": "b8d311be",
   "metadata": {},
   "source": [
    "#### This is the before-and-after for a question in the toml file."
   ]
  },
  {
   "cell_type": "markdown",
   "id": "55762bc4",
   "metadata": {},
   "source": [
    "```toml\n",
    "# Before embedding\n",
    "[[questions]]\n",
    "id = \"PMCCPPN003\"\n",
    "question = \"Vilka är de tre utgåvorna av Visual Studio?\"\n",
    "answer = \"Det finns tre utgåvor av Visual Studio: Community, Professional och Enterprise\"\n",
    "difficulty = \"Easy\"\n",
    "category = \"Programming\"\n",
    "\n",
    "[[questions.files]]\n",
    "file = \"cpp-get-started-msvc-170-001.pdf\"\n",
    "page_numbers = [9]\n",
    "\n",
    "# After embedding\n",
    "[[questions]]\n",
    "id = \"PMCCPPN003\"\n",
    "question = \"Vilka är de tre utgåvorna av Visual Studio?\"\n",
    "answer = \"Det finns tre utgåvor av Visual Studio: Community, Professional och Enterprise\"\n",
    "difficulty = \"Easy\"\n",
    "category = \"Programming\"\n",
    "question_embedding = [-0.06469225883483887, -0.0018141228938475251, 0.03967900574207306, ...]\n",
    "\n",
    "[[questions.files]]\n",
    "file = \"cpp-get-started-msvc-170-001.pdf\"\n",
    "page_numbers = [9]\n",
    "```"
   ]
  }
 ],
 "metadata": {
  "kernelspec": {
   "display_name": ".venv (3.13.2)",
   "language": "python",
   "name": "python3"
  },
  "language_info": {
   "codemirror_mode": {
    "name": "ipython",
    "version": 3
   },
   "file_extension": ".py",
   "mimetype": "text/x-python",
   "name": "python",
   "nbconvert_exporter": "python",
   "pygments_lexer": "ipython3",
   "version": "3.13.2"
  }
 },
 "nbformat": 4,
 "nbformat_minor": 5
}
